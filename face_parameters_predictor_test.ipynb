{
 "cells": [
  {
   "cell_type": "markdown",
   "source": [
    "\"Face parameters predictor\". Test"
   ],
   "metadata": {
    "collapsed": false,
    "pycharm": {
     "name": "#%% md\n"
    }
   }
  },
  {
   "cell_type": "code",
   "execution_count": 1,
   "metadata": {
    "collapsed": true,
    "pycharm": {
     "is_executing": false
    }
   },
   "outputs": [],
   "source": [
    "import numpy\n",
    "import load_dataset"
   ]
  },
  {
   "cell_type": "markdown",
   "source": [
    "Dataset processing"
   ],
   "metadata": {
    "collapsed": false
   }
  },
  {
   "cell_type": "code",
   "execution_count": 2,
   "outputs": [],
   "source": [
    "path = \"assignment_dataset/test\"\n",
    "data_frame = load_dataset.load_dataset(path)\n",
    "(x_test, y_test) = numpy.asarray(data_frame[\"x\"].values.tolist()), numpy.asarray(data_frame[\"y\"].values.tolist())"
   ],
   "metadata": {
    "collapsed": false,
    "pycharm": {
     "name": "#%%\n",
     "is_executing": false
    }
   }
  },
  {
   "cell_type": "code",
   "execution_count": 8,
   "outputs": [
    {
     "name": "stdout",
     "text": [
      "Model: \"sequential\"\n",
      "_________________________________________________________________\n",
      "Layer (type)                 Output Shape              Param #   \n",
      "=================================================================\n",
      "dense (Dense)                (None, 128)               16512     \n",
      "_________________________________________________________________\n",
      "dense_1 (Dense)              (None, 256)               33024     \n",
      "_________________________________________________________________\n",
      "dense_2 (Dense)              (None, 512)               131584    \n",
      "_________________________________________________________________\n",
      "dense_3 (Dense)              (None, 1024)              525312    \n",
      "_________________________________________________________________\n",
      "dense_4 (Dense)              (None, 2048)              2099200   \n",
      "_________________________________________________________________\n",
      "dense_5 (Dense)              (None, 50)                102450    \n",
      "=================================================================\n",
      "Total params: 2,908,082\n",
      "Trainable params: 2,908,082\n",
      "Non-trainable params: 0\n",
      "_________________________________________________________________\n",
      "mse = 0.03225226739975693\n"
     ],
     "output_type": "stream"
    }
   ],
   "source": [
    "# load model and find mse of predictions\n",
    "from tensorflow.keras.models import load_model\n",
    "model = load_model('fpp.h5')\n",
    "model.summary()\n",
    "predictions = model.predict(x_test)\n",
    "print('mse = {}'.format(numpy.square(y_test - predictions).mean()))"
   ],
   "metadata": {
    "collapsed": false,
    "pycharm": {
     "name": "#%%\n",
     "is_executing": false
    }
   }
  },
  {
   "cell_type": "code",
   "execution_count": null,
   "outputs": [],
   "source": [
    "\n"
   ],
   "metadata": {
    "collapsed": false,
    "pycharm": {
     "name": "#%%\n",
     "is_executing": false
    }
   }
  }
 ],
 "metadata": {
  "kernelspec": {
   "display_name": "Python 3",
   "language": "python",
   "name": "python3"
  },
  "language_info": {
   "codemirror_mode": {
    "name": "ipython",
    "version": 2
   },
   "file_extension": ".py",
   "mimetype": "text/x-python",
   "name": "python",
   "nbconvert_exporter": "python",
   "pygments_lexer": "ipython2",
   "version": "2.7.6"
  },
  "pycharm": {
   "stem_cell": {
    "cell_type": "raw",
    "source": [],
    "metadata": {
     "collapsed": false
    }
   }
  }
 },
 "nbformat": 4,
 "nbformat_minor": 0
}